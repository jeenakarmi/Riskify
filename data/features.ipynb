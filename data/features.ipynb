{
 "cells": [
  {
   "cell_type": "markdown",
   "id": "3c28da81",
   "metadata": {},
   "source": [
    " ##  To extract and display important features for predicting Credit Score Category using a Decision Tree\n"
   ]
  },
  {
   "cell_type": "code",
   "execution_count": null,
   "id": "3349bab1",
   "metadata": {},
   "outputs": [],
   "source": [
    "# Import libraries\n",
    "import pandas as pd\n",
    "from sklearn.model_selection import train_test_split\n",
    "from sklearn.tree import DecisionTreeClassifier\n",
    "from sklearn.preprocessing import LabelEncoder\n",
    "from sklearn.metrics import accuracy_score, classification_report, confusion_matrix\n",
    "import matplotlib.pyplot as plt\n",
    "import seaborn as sns"
   ]
  },
  {
   "cell_type": "code",
   "execution_count": null,
   "id": "7398acdc",
   "metadata": {},
   "outputs": [],
   "source": [
    "# -------------------------\n",
    "#  Load the dataset\n",
    "# -------------------------\n",
    "df = pd.read_csv(\"data.csv\")\n",
    "\n",
    "# ---------------------------------------------\n",
    "#  Drop irrelevant or unused columns\n",
    "# ---------------------------------------------\n",
    "df = df.drop(columns=[\"ApplicationDate\", \"LoanApproved\", \"RiskScore\"])\n",
    "# print(df.head())"
   ]
  },
  {
   "cell_type": "code",
   "execution_count": null,
   "id": "d8d54f9c",
   "metadata": {},
   "outputs": [],
   "source": [
    "# ------------------------------------------------------\n",
    "# Convert CreditScore to Categorical Labels\n",
    "# ------------------------------------------------------\n",
    "def credit_score_category(score):\n",
    "    if score < 580:\n",
    "        return \"Poor\"\n",
    "    elif score < 670:\n",
    "        return \"Fair\"\n",
    "    elif score < 740:\n",
    "        return \"Good\"\n",
    "    else:\n",
    "        return \"Excellent\"\n",
    "\n",
    "df['CreditScoreCategory'] = df['CreditScore'].apply(credit_score_category)\n",
    "df = df.drop(columns=[\"CreditScore\"])"
   ]
  },
  {
   "cell_type": "code",
   "execution_count": null,
   "id": "cc087758",
   "metadata": {},
   "outputs": [],
   "source": [
    "# ------------------------------------------------\n",
    "#  Encode Categorical Columns Numerically\n",
    "# ------------------------------------------------\n",
    "categorical_cols = df.select_dtypes(include='object').columns\n",
    "label_encoders = {}\n",
    "\n",
    "for col in categorical_cols:\n",
    "    le = LabelEncoder()\n",
    "    df[col] = le.fit_transform(df[col])\n",
    "    label_encoders[col] = le\n",
    "\n",
    "# ------------------------------------------\n",
    "#  Prepare Features and Target Labels\n",
    "# ------------------------------------------\n",
    "X = df.drop(columns=['CreditScoreCategory'])\n",
    "y = df['CreditScoreCategory']\n",
    "\n",
    "# -------------------------------\n",
    "#  Split into Train & Test\n",
    "# -------------------------------\n",
    "X_train, X_test, y_train, y_test = train_test_split(\n",
    "    X, y, test_size=0.2, random_state=42\n",
    ")"
   ]
  },
  {
   "cell_type": "code",
   "execution_count": null,
   "id": "f0ddb686",
   "metadata": {},
   "outputs": [],
   "source": [
    "\n",
    "# ----------------------------------------\n",
    "#  Train Decision Tree Classifier (all features)\n",
    "# ----------------------------------------\n",
    "clf = DecisionTreeClassifier(criterion=\"gini\", max_depth=None, random_state=42)\n",
    "clf.fit(X_train, y_train)\n",
    "\n",
    "# -------------------------------\n",
    "#  Extract Important Features\n",
    "# -------------------------------\n",
    "importance = pd.Series(clf.feature_importances_, index=X.columns)\n",
    "threshold = 0.05\n",
    "selected_features = importance[importance > threshold].index.tolist()\n",
    "\n",
    "print(\"\\n All Feature Importances:\")\n",
    "print(importance.sort_values(ascending=False))\n",
    "\n",
    "print(f\"\\n Selected Features (importance > {threshold}):\")\n",
    "print(selected_features)\n"
   ]
  },
  {
   "cell_type": "code",
   "execution_count": null,
   "id": "eefe1973",
   "metadata": {},
   "outputs": [],
   "source": [
    "\n",
    "# ---------------------------------------------\n",
    "# Train Model on Selected Features Only\n",
    "# ---------------------------------------------\n",
    "X_sel = df[selected_features]\n",
    "\n",
    "X_train_sel, X_test_sel, y_train_sel, y_test_sel = train_test_split(\n",
    "    X_sel, y, test_size=0.2, random_state=42\n",
    ")\n",
    "\n",
    "clf_sel = DecisionTreeClassifier(criterion=\"gini\", max_depth=None, random_state=42)\n",
    "clf_sel.fit(X_train_sel, y_train_sel)\n",
    "\n",
    "# -----------------------------------------\n",
    "# Evaluate Model on Selected Features\n",
    "# -----------------------------------------\n",
    "y_pred_sel = clf_sel.predict(X_test_sel)\n",
    "accuracy_sel = accuracy_score(y_test_sel, y_pred_sel)\n",
    "\n",
    "print(f\"\\n Model Accuracy (Selected Features): {accuracy_sel:.4f}\")\n",
    "print(\"\\n Classification Report:\")\n",
    "print(classification_report(y_test_sel, y_pred_sel))"
   ]
  },
  {
   "cell_type": "code",
   "execution_count": null,
   "id": "3cbb43b6",
   "metadata": {},
   "outputs": [],
   "source": [
    "\n",
    "# Confusion matrix\n",
    "# conf_matrix = confusion_matrix(y_test_sel, y_pred_sel)\n",
    "# plt.figure(figsize=(8, 6))\n",
    "# sns.heatmap(conf_matrix, annot=True, fmt='d', cmap='Blues',\n",
    "#             xticklabels=clf_sel.classes_, yticklabels=clf_sel.classes_)\n",
    "# plt.title(\"Confusion Matrix (Selected Features)\")\n",
    "# plt.xlabel(\"Predicted\")\n",
    "# plt.ylabel(\"Actual\")\n",
    "# plt.tight_layout()\n",
    "# plt.show()\n"
   ]
  }
 ],
 "metadata": {
  "kernelspec": {
   "display_name": "env",
   "language": "python",
   "name": "python3"
  },
  "language_info": {
   "codemirror_mode": {
    "name": "ipython",
    "version": 3
   },
   "file_extension": ".py",
   "mimetype": "text/x-python",
   "name": "python",
   "nbconvert_exporter": "python",
   "pygments_lexer": "ipython3",
   "version": "3.11.5"
  }
 },
 "nbformat": 4,
 "nbformat_minor": 5
}
